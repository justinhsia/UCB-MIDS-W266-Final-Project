{
  "nbformat": 4,
  "nbformat_minor": 0,
  "metadata": {
    "kernelspec": {
      "display_name": "Python 3",
      "language": "python",
      "name": "python3"
    },
    "language_info": {
      "codemirror_mode": {
        "name": "ipython",
        "version": 3
      },
      "file_extension": ".py",
      "mimetype": "text/x-python",
      "name": "python",
      "nbconvert_exporter": "python",
      "pygments_lexer": "ipython3",
      "version": "3.7.3"
    },
    "colab": {
      "name": "Toxicity_ELMo.ipynb",
      "provenance": [],
      "collapsed_sections": [],
      "toc_visible": true,
      "machine_shape": "hm"
    },
    "accelerator": "GPU"
  },
  "cells": [
    {
      "cell_type": "markdown",
      "metadata": {
        "id": "34bpTc00xIHb",
        "colab_type": "text"
      },
      "source": [
        "# 0. Import Dependencies"
      ]
    },
    {
      "cell_type": "code",
      "metadata": {
        "id": "5o8EsCFkMarw",
        "colab_type": "code",
        "colab": {}
      },
      "source": [
        "import numpy as np\n",
        "import pandas as pd\n",
        "import keras\n",
        "from keras.models import Model\n",
        "from keras.layers import Dense, Embedding, Input\n",
        "from keras.layers import LSTM, Bidirectional, GlobalMaxPool1D, Dropout, Lambda\n",
        "from keras.preprocessing import text, sequence\n",
        "from keras.callbacks import EarlyStopping, ModelCheckpoint\n",
        "from tqdm.notebook import tqdm"
      ],
      "execution_count": null,
      "outputs": []
    },
    {
      "cell_type": "markdown",
      "metadata": {
        "id": "2wXJq_8YxOSZ",
        "colab_type": "text"
      },
      "source": [
        "# 1. Data Preprocessing"
      ]
    },
    {
      "cell_type": "code",
      "metadata": {
        "id": "Zt0DR638Mar2",
        "colab_type": "code",
        "colab": {}
      },
      "source": [
        "# Load the training dataset\n",
        "\n",
        "data_path = 'new_train.csv'\n",
        "data_raw = pd.read_csv(data_path)\n",
        "\n",
        "data_raw = data_raw.sample(frac=1, replace=False)\n",
        "\n",
        "print(\"Number of rows in data =\",data_raw.shape[0])\n",
        "print(\"Number of columns in data =\",data_raw.shape[1])\n",
        "print(\"\\n\")\n",
        "print(\"**Sample data:**\")\n",
        "data_raw.drop(columns='index', inplace=True)\n",
        "data_raw.head()"
      ],
      "execution_count": null,
      "outputs": []
    },
    {
      "cell_type": "code",
      "metadata": {
        "id": "e4hXR9pOMar5",
        "colab_type": "code",
        "colab": {}
      },
      "source": [
        "# Generate a summary column \"category\".  The column contains \"1\" if the comment is labeled at least once.\n",
        "# Otherwise, the column will take on a value of \"0\".\n",
        "\n",
        "data_raw[\"category\"] = data_raw.iloc[:,2:].sum(axis=1)\n",
        "data_raw[\"category\"] = data_raw[\"category\"]/data_raw[\"category\"]\n",
        "data_raw.fillna(0, inplace=True)\n",
        "data_raw.toxicity = data_raw.category.astype(int)\n",
        "print(\"Total number of labeled comments is %d.\" %data_raw.category.sum())"
      ],
      "execution_count": null,
      "outputs": []
    },
    {
      "cell_type": "code",
      "metadata": {
        "id": "V4c8kiFi_zmt",
        "colab_type": "code",
        "colab": {}
      },
      "source": [
        "data_raw.head()"
      ],
      "execution_count": null,
      "outputs": []
    },
    {
      "cell_type": "code",
      "metadata": {
        "id": "dAu4jANrMar7",
        "colab_type": "code",
        "colab": {}
      },
      "source": [
        "data = data_raw"
      ],
      "execution_count": 5,
      "outputs": []
    },
    {
      "cell_type": "code",
      "metadata": {
        "id": "wxfNVzy3Mar-",
        "colab_type": "code",
        "colab": {}
      },
      "source": [
        "# Data Pre-processing\n",
        "\n",
        "import nltk\n",
        "from nltk.corpus import stopwords\n",
        "from nltk.stem.snowball import SnowballStemmer\n",
        "import re\n",
        "import sys\n",
        "import warnings\n",
        "\n",
        "if not sys.warnoptions:\n",
        "    warnings.simplefilter(\"ignore\")\n",
        "\n",
        "def cleanHtml(sentence):\n",
        "    cleanr = re.compile('<.*?>')\n",
        "    cleantext = re.sub(cleanr, ' ', str(sentence))\n",
        "    return cleantext\n",
        "\n",
        "def cleanPunc(sentence): #function to clean the word of any punctuation or special characters\n",
        "    cleaned = re.sub(r'[?|!|\\'|\"|#]',r'',sentence)\n",
        "    cleaned = re.sub(r'[.|,|)|(|\\|/]',r' ',cleaned)\n",
        "    cleaned = cleaned.strip()\n",
        "    cleaned = cleaned.replace(\"\\n\",\" \")\n",
        "    return cleaned\n",
        "\n",
        "def keepAlpha(sentence):\n",
        "    alpha_sent = \"\"\n",
        "    for word in sentence.split():\n",
        "        alpha_word = re.sub('[^a-z A-Z]+', ' ', word)\n",
        "        alpha_sent += alpha_word\n",
        "        alpha_sent += \" \"\n",
        "    alpha_sent = alpha_sent.strip()\n",
        "    return alpha_sent\n",
        "\n",
        "data['comment_text'] = data['comment_text'].str.lower()\n",
        "data['comment_text'] = data['comment_text'].apply(cleanHtml)\n",
        "data['comment_text'] = data['comment_text'].apply(cleanPunc)\n",
        "data['comment_text'] = data['comment_text'].apply(keepAlpha)"
      ],
      "execution_count": 6,
      "outputs": []
    },
    {
      "cell_type": "code",
      "metadata": {
        "id": "MHvN5hUKNlpL",
        "colab_type": "code",
        "colab": {}
      },
      "source": [
        "# Retain relevant columns from the preprocessed dataset.\n",
        "data = data[['id', 'comment_text', 'category']]\n",
        "\n",
        "# Replace values in the column 'category' by {0: non-toxic, 1: toxic}.\n",
        "data.loc[data.category == 0, 'category'] = 'non-toxic'\n",
        "data.loc[data.category == 1, 'category'] = 'toxic'\n",
        "\n",
        "# Replace index in-place by the 'id' column.\n",
        "data.set_index('id', inplace=True)"
      ],
      "execution_count": null,
      "outputs": []
    },
    {
      "cell_type": "code",
      "metadata": {
        "id": "9HZ7BsKSNlfV",
        "colab_type": "code",
        "colab": {}
      },
      "source": [
        "data.head()"
      ],
      "execution_count": null,
      "outputs": []
    },
    {
      "cell_type": "code",
      "metadata": {
        "id": "bkWs-I6ER7Ba",
        "colab_type": "code",
        "colab": {}
      },
      "source": [
        "data.category.value_counts()"
      ],
      "execution_count": null,
      "outputs": []
    },
    {
      "cell_type": "code",
      "metadata": {
        "id": "94gjyeKASOP6",
        "colab_type": "code",
        "colab": {}
      },
      "source": [
        "possible_labels = data.category.unique()\n",
        "possible_labels"
      ],
      "execution_count": null,
      "outputs": []
    },
    {
      "cell_type": "code",
      "metadata": {
        "id": "uA_TJ5qGR61p",
        "colab_type": "code",
        "colab": {}
      },
      "source": [
        "label_dict = {}\n",
        "\n",
        "for index, possible_labels in enumerate(possible_labels):\n",
        "    label_dict[possible_labels] = index\n",
        "\n",
        "\n",
        "label_dict"
      ],
      "execution_count": 11,
      "outputs": []
    },
    {
      "cell_type": "code",
      "metadata": {
        "id": "tzX-Rsz6MasA",
        "colab_type": "code",
        "colab": {}
      },
      "source": [
        "data['label'] = data.category.replace(label_dict)\n",
        "data.head()"
      ],
      "execution_count": null,
      "outputs": []
    },
    {
      "cell_type": "code",
      "metadata": {
        "id": "gvr5mRrbfVvj",
        "colab_type": "code",
        "colab": {}
      },
      "source": [
        "data['non-toxic'] = 1 - data.label\n",
        "data['toxic'] =  data.label\n",
        "data.tail(20)"
      ],
      "execution_count": null,
      "outputs": []
    },
    {
      "cell_type": "markdown",
      "metadata": {
        "id": "NkqPeEFNH6XQ",
        "colab_type": "text"
      },
      "source": [
        "# 2. Train Split Data"
      ]
    },
    {
      "cell_type": "code",
      "metadata": {
        "id": "I5bpPbj7T6Hc",
        "colab_type": "code",
        "colab": {}
      },
      "source": [
        "max_feature = 20000 # maximum number of different words to embed\n",
        "maxlen = 100 # maximum length in each comment_text.  Set to 200 for comparison with GLoVe and BERT.\n",
        "\n",
        "X = data['comment_text'].values  # There should be NO na's.\n",
        "list_classes = ['toxic', 'non-toxic']\n",
        "y = data['label'].values"
      ],
      "execution_count": 16,
      "outputs": []
    },
    {
      "cell_type": "code",
      "metadata": {
        "id": "bF8V-U1-TtB1",
        "colab_type": "code",
        "colab": {}
      },
      "source": [
        "from sklearn.model_selection import train_test_split"
      ],
      "execution_count": 17,
      "outputs": []
    },
    {
      "cell_type": "code",
      "metadata": {
        "id": "mA5ekBR3Tsjb",
        "colab_type": "code",
        "colab": {}
      },
      "source": [
        "X_train, X_val, y_train, y_val = train_test_split(\n",
        "    X,\n",
        "    y,\n",
        "    test_size = 0.2,\n",
        "    random_state = 42,\n",
        "    stratify = data.label.values\n",
        ")"
      ],
      "execution_count": 18,
      "outputs": []
    },
    {
      "cell_type": "markdown",
      "metadata": {
        "id": "Dtfv4-TYfVzn",
        "colab_type": "text"
      },
      "source": [
        "# 3. Embedding Function"
      ]
    },
    {
      "cell_type": "code",
      "metadata": {
        "id": "rijTkC5AfeTr",
        "colab_type": "code",
        "colab": {}
      },
      "source": [
        "# Creating embedding using tensorflow hub\n",
        "\n",
        "import tensorflow_hub as hub\n",
        "import tensorflow.compat.v1 as tf\n",
        "#To make tf 2.0 compatible with tf1.0 code, we disable the tf2.0 functionalities\n",
        "tf.disable_eager_execution()"
      ],
      "execution_count": 19,
      "outputs": []
    },
    {
      "cell_type": "code",
      "metadata": {
        "id": "2eUoxJI0ffBX",
        "colab_type": "code",
        "colab": {}
      },
      "source": [
        "elmo = hub.Module('https://tfhub.dev/google/elmo/2', trainable=True)"
      ],
      "execution_count": 20,
      "outputs": []
    },
    {
      "cell_type": "code",
      "metadata": {
        "id": "upMKgyaZe1aZ",
        "colab_type": "code",
        "colab": {}
      },
      "source": [
        "def ELMoEmbedding(x):\n",
        "    # return elmo(tf.squeeze(tf.cast(x, tf.string)), signature=\"default\", as_dict=True)[\"default\"]\n",
        "        return elmo(tf.reshape(tf.cast(x, tf.string), [-1]), signature=\"default\", as_dict=True)[\"default\"]"
      ],
      "execution_count": 21,
      "outputs": []
    },
    {
      "cell_type": "markdown",
      "metadata": {
        "id": "k7lK1E2Wfqm6",
        "colab_type": "text"
      },
      "source": [
        "# 4. Build Model and Defining Metrics"
      ]
    },
    {
      "cell_type": "code",
      "metadata": {
        "id": "hEF5VRJCe13S",
        "colab_type": "code",
        "colab": {}
      },
      "source": [
        "def build_model(): \n",
        "    input_text = Input(shape=(1,), dtype=\"string\")\n",
        "    embedding = Lambda(ELMoEmbedding, output_shape=(1024, ))(input_text)\n",
        "    dense = Dense(10, activation='relu', kernel_regularizer=keras.regularizers.l2(0.001))(embedding)\n",
        "    pred = Dense(1, activation='sigmoid')(dense)\n",
        "    model = Model(inputs=[input_text], outputs=pred)\n",
        "    model.compile(loss='binary_crossentropy', optimizer='adam', metrics=['accuracy'])\n",
        "    return model\n",
        "model = build_model()"
      ],
      "execution_count": null,
      "outputs": []
    },
    {
      "cell_type": "code",
      "metadata": {
        "id": "vZlNQsE6gFTz",
        "colab_type": "code",
        "colab": {}
      },
      "source": [
        "model.summary()"
      ],
      "execution_count": null,
      "outputs": []
    },
    {
      "cell_type": "code",
      "metadata": {
        "id": "iHCjh6rFW1TB",
        "colab_type": "code",
        "colab": {}
      },
      "source": [
        "from keras import backend as K\n",
        "\n",
        "def recall_m(y_true, y_pred):\n",
        "    true_positives = K.sum(K.round(K.clip(y_true * y_pred, 0, 1)))\n",
        "    possible_positives = K.sum(K.round(K.clip(y_true, 0, 1)))\n",
        "    recall = true_positives / (possible_positives + K.epsilon())\n",
        "    return recall\n",
        "\n",
        "def precision_m(y_true, y_pred):\n",
        "    true_positives = K.sum(K.round(K.clip(y_true * y_pred, 0, 1)))\n",
        "    predicted_positives = K.sum(K.round(K.clip(y_pred, 0, 1)))\n",
        "    precision = true_positives / (predicted_positives + K.epsilon())\n",
        "    return precision\n",
        "\n",
        "def f1_m(y_true, y_pred):\n",
        "    precision = precision_m(y_true, y_pred)\n",
        "    recall = recall_m(y_true, y_pred)\n",
        "    return 2*((precision*recall)/(precision+recall+K.epsilon()))"
      ],
      "execution_count": 28,
      "outputs": []
    },
    {
      "cell_type": "code",
      "metadata": {
        "id": "gHXJhHxMMasa",
        "colab_type": "code",
        "colab": {}
      },
      "source": [
        "model.summary()"
      ],
      "execution_count": null,
      "outputs": []
    },
    {
      "cell_type": "markdown",
      "metadata": {
        "id": "cTx2PPL-ISEo",
        "colab_type": "text"
      },
      "source": [
        "# 5. Train Model"
      ]
    },
    {
      "cell_type": "code",
      "metadata": {
        "id": "o9Wy8giEnZSZ",
        "colab_type": "code",
        "colab": {}
      },
      "source": [
        "gpu_options = tf.GPUOptions(allow_growth=True)\n",
        "# session = tf.InteractiveSession(config=tf.ConfigProto(gpu_options=gpu_options))"
      ],
      "execution_count": 31,
      "outputs": []
    },
    {
      "cell_type": "code",
      "metadata": {
        "id": "JYDf0RAqMasc",
        "colab_type": "code",
        "colab": {}
      },
      "source": [
        "from tensorflow.compat.v1.keras import backend as K\n",
        "\n",
        "from keras.callbacks import ModelCheckpoint\n",
        "\n",
        "batch = 16\n",
        "epoch = 10\n",
        "\n",
        "with tf.Session(config=tf.ConfigProto(gpu_options=gpu_options)) as session:\n",
        "    K.set_session(session)\n",
        "    session.run(tf.global_variables_initializer())\n",
        "    session.run(tf.tables_initializer())\n",
        "\n",
        "    checkpoint = ModelCheckpoint(\n",
        "        \"ELMo _Weights_{epoch:02d}_{val_loss:.2f}.hdf5\",\n",
        "        monitor='val_loss',\n",
        "        verbose=1,\n",
        "        save_best_only=False,\n",
        "        mode='auto',\n",
        "        save_weights_only=True,\n",
        "        period=1)\n",
        "\n",
        "    history = model.fit(\n",
        "        X_train,\n",
        "        y_train,\n",
        "        epochs=epoch,\n",
        "        batch_size=batch,\n",
        "        validation_data=(X_val, y_val),\n",
        "        verbose=1,\n",
        "        callbacks=[checkpoint])\n",
        "    \n",
        "    model.save_weights('ELMo_Weights.h5')"
      ],
      "execution_count": null,
      "outputs": []
    },
    {
      "cell_type": "markdown",
      "metadata": {
        "id": "472NrVTxIcMw",
        "colab_type": "text"
      },
      "source": [
        "# 6. Pull and Save Training History"
      ]
    },
    {
      "cell_type": "code",
      "metadata": {
        "id": "ie5J5R-eL2oi",
        "colab_type": "code",
        "colab": {}
      },
      "source": [
        "history = pd.DataFrame(history.history)"
      ],
      "execution_count": null,
      "outputs": []
    },
    {
      "cell_type": "code",
      "metadata": {
        "id": "vq1Ze5qsMUfd",
        "colab_type": "code",
        "colab": {}
      },
      "source": [
        "history['epoch'] = [i + 1 for i in range(epoch)]"
      ],
      "execution_count": null,
      "outputs": []
    },
    {
      "cell_type": "code",
      "metadata": {
        "id": "h1S5jNOFM35g",
        "colab_type": "code",
        "colab": {}
      },
      "source": [
        "history"
      ],
      "execution_count": null,
      "outputs": []
    },
    {
      "cell_type": "code",
      "metadata": {
        "id": "tk6rKF7XV4iF",
        "colab_type": "code",
        "colab": {}
      },
      "source": [
        "history.plot(x='epoch', y=['loss', 'val_loss'], figsize=(10,5), grid=True);\n",
        "# history.plot(x='epoch', y=['val_f1_m'], figsize=(10,5), grid=True);"
      ],
      "execution_count": null,
      "outputs": []
    },
    {
      "cell_type": "code",
      "metadata": {
        "id": "HYaUKzU9V7J7",
        "colab_type": "code",
        "colab": {}
      },
      "source": [
        "history.to_csv('ELMo.csv', index=False)"
      ],
      "execution_count": null,
      "outputs": []
    },
    {
      "cell_type": "markdown",
      "metadata": {
        "id": "KhxvD2shWHu_",
        "colab_type": "text"
      },
      "source": [
        "# 7. Load and Evaluate Model"
      ]
    },
    {
      "cell_type": "code",
      "metadata": {
        "id": "RYeSGf1lImNa",
        "colab_type": "code",
        "colab": {}
      },
      "source": [
        "# Load the test dataset\n",
        "\n",
        "data_path = 'new_test.csv'\n",
        "data_raw = pd.read_csv(data_path)\n",
        "\n",
        "print(\"Number of rows in data =\",data_raw.shape[0])\n",
        "print(\"Number of columns in data =\",data_raw.shape[1])\n",
        "print(\"\\n\")\n",
        "print(\"**Sample data:**\")\n",
        "data_raw.head()"
      ],
      "execution_count": null,
      "outputs": []
    },
    {
      "cell_type": "code",
      "metadata": {
        "id": "BUJWrAdAImtQ",
        "colab_type": "code",
        "colab": {}
      },
      "source": [
        "# Generate a summary column \"category\".  The column contains \"1\" if the comment is labeled at least once.\n",
        "# Otherwise, the column will take on a value of \"0\".\n",
        "\n",
        "data_raw[\"category\"] = data_raw.iloc[:,2:8].sum(axis=1)\n",
        "data_raw[\"category\"] = data_raw[\"category\"]/data_raw[\"category\"]\n",
        "data_raw.fillna(0, inplace=True)\n",
        "data_raw.toxicity = data_raw.category.astype(int)\n",
        "print(\"Total number of labeled comments is %d.\" %data_raw.category.sum())"
      ],
      "execution_count": null,
      "outputs": []
    },
    {
      "cell_type": "code",
      "metadata": {
        "id": "zOVy0u_JJCrf",
        "colab_type": "code",
        "colab": {}
      },
      "source": [
        "test_data = data_raw"
      ],
      "execution_count": null,
      "outputs": []
    },
    {
      "cell_type": "code",
      "metadata": {
        "id": "EbId_wx1InLK",
        "colab_type": "code",
        "colab": {}
      },
      "source": [
        "test_data['comment_text'] = test_data['comment_text'].str.lower()\n",
        "test_data['comment_text'] = test_data['comment_text'].apply(cleanHtml)\n",
        "test_data['comment_text'] = test_data['comment_text'].apply(cleanPunc)\n",
        "test_data['comment_text'] = test_data['comment_text'].apply(keepAlpha)"
      ],
      "execution_count": null,
      "outputs": []
    },
    {
      "cell_type": "code",
      "metadata": {
        "id": "wmrdpdG7Inhh",
        "colab_type": "code",
        "colab": {}
      },
      "source": [
        "# Retain relevant columns from the preprocessed dataset.\n",
        "test_data = test_data[['id', 'comment_text', 'category']]\n",
        "\n",
        "# Replace values in the column 'category' by {0: non-toxic, 1: toxic}.\n",
        "test_data.loc[test_data.category == 0, 'category'] = 'non-toxic'\n",
        "test_data.loc[test_data.category == 1, 'category'] = 'toxic'\n",
        "\n",
        "# Replace index in-place by the 'id' column.\n",
        "test_data.set_index('id', inplace=True)"
      ],
      "execution_count": null,
      "outputs": []
    },
    {
      "cell_type": "code",
      "metadata": {
        "id": "SdjJMg8iJcCi",
        "colab_type": "code",
        "colab": {}
      },
      "source": [
        "test_data['label'] = test_data.category.replace(label_dict)"
      ],
      "execution_count": null,
      "outputs": []
    },
    {
      "cell_type": "code",
      "metadata": {
        "id": "69kzwKVcJ0gL",
        "colab_type": "code",
        "colab": {}
      },
      "source": [
        "test_data['non-toxic'] = 1 - test_data.label\n",
        "test_data['toxic'] =  test_data.label\n",
        "test_data.tail(20)"
      ],
      "execution_count": null,
      "outputs": []
    },
    {
      "cell_type": "code",
      "metadata": {
        "id": "TmGmKYXCKnLB",
        "colab_type": "code",
        "colab": {}
      },
      "source": [
        "X_test = test_data['comment_text'].values  # There should be NO na's.\n",
        "list_classes = ['toxic', 'non-toxic']\n",
        "y_test = test_data['label'].values"
      ],
      "execution_count": null,
      "outputs": []
    },
    {
      "cell_type": "code",
      "metadata": {
        "id": "snwjhKiTV7lj",
        "colab_type": "code",
        "colab": {}
      },
      "source": [
        "from keras import backend as K\n",
        "\n",
        "def recall_m(y_true, y_pred):\n",
        "    true_positives = K.sum(K.round(K.clip(y_true * y_pred, 0, 1)))\n",
        "    possible_positives = K.sum(K.round(K.clip(y_true, 0, 1)))\n",
        "    recall = true_positives / (possible_positives + K.epsilon())\n",
        "    return recall\n",
        "\n",
        "def precision_m(y_true, y_pred):\n",
        "    true_positives = K.sum(K.round(K.clip(y_true * y_pred, 0, 1)))\n",
        "    predicted_positives = K.sum(K.round(K.clip(y_pred, 0, 1)))\n",
        "    precision = true_positives / (predicted_positives + K.epsilon())\n",
        "    return precision\n",
        "\n",
        "def f1_m(y_true, y_pred):\n",
        "    precision = precision_m(y_true, y_pred)\n",
        "    recall = recall_m(y_true, y_pred)\n",
        "    return 2*((precision*recall)/(precision+recall+K.epsilon()))"
      ],
      "execution_count": null,
      "outputs": []
    },
    {
      "cell_type": "code",
      "metadata": {
        "id": "zHyPPhJNV74J",
        "colab_type": "code",
        "colab": {}
      },
      "source": [
        "def accuracy_per_class(preds, labels):\n",
        "    label_dict_inverse = {v: k for k, v in label_dict.items()}\n",
        "    \n",
        "    # preds_flat = np.argmax(preds, axis=1).flatten()\n",
        "    # labels_flat = np.argmax(labels, axis=1).flatten()\n",
        "\n",
        "    preds_flat = preds\n",
        "    labels_flat = labels\n",
        "    \n",
        "    for label in np.unique(labels_flat):\n",
        "        y_preds = preds_flat[labels_flat==label]\n",
        "        y_true = labels_flat[labels_flat==label]\n",
        "        print(f'Class: {label_dict_inverse[label]}')\n",
        "        print(f'Accuracy: {len(y_preds[y_preds==label])}/{len(y_true)}\\n')"
      ],
      "execution_count": null,
      "outputs": []
    },
    {
      "cell_type": "code",
      "metadata": {
        "id": "VRrDdiD_WMBP",
        "colab_type": "code",
        "colab": {
          "base_uri": "https://localhost:8080/",
          "height": 51
        },
        "outputId": "97556256-4635-4769-d042-3b9a3414e6e9"
      },
      "source": [
        "# new_model = Model(inputs=[input_text], outputs=pred)\n",
        "\n",
        "new_model = build_model()\n",
        "\n",
        "new_model.compile(loss='categorical_crossentropy', optimizer='adam', metrics=['accuracy', f1_m])"
      ],
      "execution_count": null,
      "outputs": [
        {
          "output_type": "stream",
          "text": [
            "INFO:tensorflow:Saver not created because there are no variables in the graph to restore\n"
          ],
          "name": "stdout"
        },
        {
          "output_type": "stream",
          "text": [
            "INFO:tensorflow:Saver not created because there are no variables in the graph to restore\n"
          ],
          "name": "stderr"
        }
      ]
    },
    {
      "cell_type": "code",
      "metadata": {
        "id": "GN6Xi_5hWLy1",
        "colab_type": "code",
        "colab": {}
      },
      "source": [
        "from tensorflow.compat.v1.keras import backend as K\n",
        "\n",
        "session = tf.Session(config=tf.ConfigProto(gpu_options=gpu_options))\n",
        "\n",
        "K.set_session(session)\n",
        "session.run(tf.global_variables_initializer())\n",
        "session.run(tf.tables_initializer())\n",
        "\n",
        "new_model.load_weights('/content/ELMo _Weights_05_0.51.hdf5')"
      ],
      "execution_count": null,
      "outputs": []
    },
    {
      "cell_type": "code",
      "metadata": {
        "id": "b3cIPiW5V7bg",
        "colab_type": "code",
        "colab": {}
      },
      "source": [
        "preds = new_model.predict(X_val, batch_size=16, verbose=1)"
      ],
      "execution_count": null,
      "outputs": []
    },
    {
      "cell_type": "code",
      "metadata": {
        "id": "xUUZfHmozsDX",
        "colab_type": "code",
        "colab": {}
      },
      "source": [
        "# prediction_results = pd.DataFrame(preds)\n",
        "# prediction_results.to_csv('ELMo_Preds_Results.csv', index=False)"
      ],
      "execution_count": null,
      "outputs": []
    },
    {
      "cell_type": "code",
      "metadata": {
        "id": "KhgSENKYyM5w",
        "colab_type": "code",
        "colab": {}
      },
      "source": [
        "import copy\n",
        "\n",
        "p = copy.copy(preds)\n",
        "p = np.squeeze(p)\n",
        "pp = np.where(p >= 0.5, 0, 1)\n",
        "# pp = np.where(p >= 0.5, 1, 0)\n",
        "results = pd.DataFrame({'pred':pp, 'true':y_val})\n",
        "nt = results[results.true == 0]\n",
        "t = results[results.true == 1]"
      ],
      "execution_count": null,
      "outputs": []
    },
    {
      "cell_type": "code",
      "metadata": {
        "id": "1ndFuaTK1Rba",
        "colab_type": "code",
        "colab": {}
      },
      "source": [
        "nt = results[results.true == 0]\n",
        "t = results[results.true == 1]"
      ],
      "execution_count": null,
      "outputs": []
    },
    {
      "cell_type": "code",
      "metadata": {
        "id": "3T_9J22c2IgK",
        "colab_type": "code",
        "colab": {
          "base_uri": "https://localhost:8080/",
          "height": 34
        },
        "outputId": "425d6a64-ae51-49a5-d6f9-7cf8b4089e7f"
      },
      "source": [
        "sum(nt['pred'] == nt['true'])"
      ],
      "execution_count": null,
      "outputs": [
        {
          "output_type": "execute_result",
          "data": {
            "text/plain": [
              "235"
            ]
          },
          "metadata": {
            "tags": []
          },
          "execution_count": 169
        }
      ]
    },
    {
      "cell_type": "code",
      "metadata": {
        "id": "Hla-xebw3C8U",
        "colab_type": "code",
        "colab": {
          "base_uri": "https://localhost:8080/",
          "height": 34
        },
        "outputId": "3a32c09f-713a-4281-f3c0-ba1abd38c5e0"
      },
      "source": [
        "sum(t['pred'] == t['true'])"
      ],
      "execution_count": null,
      "outputs": [
        {
          "output_type": "execute_result",
          "data": {
            "text/plain": [
              "717"
            ]
          },
          "metadata": {
            "tags": []
          },
          "execution_count": 170
        }
      ]
    },
    {
      "cell_type": "code",
      "metadata": {
        "id": "AwgEbwVw3Fwq",
        "colab_type": "code",
        "colab": {
          "base_uri": "https://localhost:8080/",
          "height": 34
        },
        "outputId": "17b920d4-9e39-4b0b-a9f0-e22dbc1bbd4f"
      },
      "source": [
        "from sklearn.metrics import f1_score\n",
        "\n",
        "f1_score(y_val, pp, average='weighted')"
      ],
      "execution_count": null,
      "outputs": [
        {
          "output_type": "execute_result",
          "data": {
            "text/plain": [
              "0.15723509872392136"
            ]
          },
          "metadata": {
            "tags": []
          },
          "execution_count": 171
        }
      ]
    },
    {
      "cell_type": "code",
      "metadata": {
        "id": "nj3pv5qSo_L7",
        "colab_type": "code",
        "colab": {}
      },
      "source": [
        ""
      ],
      "execution_count": null,
      "outputs": []
    }
  ]
}